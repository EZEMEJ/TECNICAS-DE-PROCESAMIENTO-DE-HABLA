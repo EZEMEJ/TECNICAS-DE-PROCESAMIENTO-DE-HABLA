{
  "nbformat": 4,
  "nbformat_minor": 0,
  "metadata": {
    "colab": {
      "provenance": []
    },
    "kernelspec": {
      "name": "python3",
      "display_name": "Python 3"
    },
    "language_info": {
      "name": "python"
    }
  },
  "cells": [
    {
      "cell_type": "markdown",
      "source": [
        "# Sumarizador de Textos usando API de Google\n",
        "\n",
        "En este notebook vamos a crear una aplicación web simple que resume textos usando IA.\n",
        "\n",
        "**¿Qué hace este código?**\n",
        "- Toma un texto \"largo\"\n",
        "- Lo envía a la IA de Google (Gemini)\n",
        "- La IA devuelve un resumen corto\n",
        "- Lo mostramos en una página web"
      ],
      "metadata": {
        "id": "intro"
      }
    },
    {
      "cell_type": "markdown",
      "source": [
        "## Paso 1: Instalar las herramientas necesarias"
      ],
      "metadata": {
        "id": "step1"
      }
    },
    {
      "cell_type": "code",
      "execution_count": null,
      "metadata": {
        "id": "install"
      },
      "outputs": [],
      "source": [
        "# Instalar las herramientas que necesitamos\n",
        "%pip install -U -q google-genai gradio"
      ]
    },
    {
      "cell_type": "markdown",
      "source": [
        "## Paso 2: Obtener la clave secreta de Google\n",
        "Para usar la IA de Google necesitamos una \"clave\""
      ],
      "metadata": {
        "id": "step2"
      }
    },
    {
      "cell_type": "code",
      "source": [
        "# Importar herramientas\n",
        "from google.colab import userdata\n",
        "import gradio as gr\n",
        "from google import genai\n",
        "\n",
        "# Obtener la clave secreta de Google\n",
        "clave_google = userdata.get('GOOGLE_API_KEY')"
      ],
      "metadata": {
        "id": "api_key"
      },
      "execution_count": null,
      "outputs": []
    },
    {
      "cell_type": "markdown",
      "source": [
        "## Paso 3: Conectar con la IA de Google\n",
        "Aquí nos conectamos con la API de Gemini"
      ],
      "metadata": {
        "id": "step3"
      }
    },
    {
      "cell_type": "code",
      "source": [
        "# Conectar con la IA de Google\n",
        "ia_gemini = genai.Client(api_key=clave_google)\n",
        "\n",
        "# Elegir qué modelo de IA usar (como elegir qué versión de una app)\n",
        "modelo = \"gemini-2.0-flash\""
      ],
      "metadata": {
        "id": "connect"
      },
      "execution_count": null,
      "outputs": []
    },
    {
      "cell_type": "markdown",
      "source": [
        "## Paso 4: Crear la función que resume textos"
      ],
      "metadata": {
        "id": "step4"
      }
    },
    {
      "cell_type": "code",
      "source": [
        "def resumir_texto(texto_largo):\n",
        "    \"\"\"Esta función toma un texto largo y devuelve un resumen corto\"\"\"\n",
        "\n",
        "    # Si no hay texto, devolver un mensaje\n",
        "    if not texto_largo:\n",
        "        return \"Escribí un texto para resumir\"\n",
        "\n",
        "    # Crear la instrucción para el modelo de lenguaje\n",
        "    instruccion = f\"\"\"Resumí este texto en 2 oraciones fáciles de leer:\n",
        "\n",
        "    {texto_largo}\"\"\"\n",
        "\n",
        "    # Enviar la instrucción a la API y obtener la respuesta\n",
        "    respuesta = ia_gemini.models.generate_content(\n",
        "        model=modelo,\n",
        "        contents=[instruccion]\n",
        "    )\n",
        "\n",
        "    # Devolver el resumen\n",
        "    return respuesta.text"
      ],
      "metadata": {
        "id": "function"
      },
      "execution_count": null,
      "outputs": []
    },
    {
      "cell_type": "markdown",
      "source": [
        "## Paso 5: Crear la página web\n",
        "Aquí creamos una página web bonita donde la gente puede usar nuestro resumidor"
      ],
      "metadata": {
        "id": "step5"
      }
    },
    {
      "cell_type": "code",
      "source": [
        "# Texto de ejemplo\n",
        "ejemplo = \"\"\"Un hombre fue detenido por la PFA por una serie de amenazas de muerte dirigidas a Patricia Bullrich a través de redes sociales. En el marco de una investigación coordinada por el Ministerio de Seguridad Nacional, efectivos del Departamento Federal de Investigaciones arrestó, en las últimas horas, al supuesto responsable en la Ciudad de Buenos Aires. La causa se inició el 20 de marzo tras una denuncia presentada por el Ministerio, luego de que la funcionaria del gobierno de Javier Milei, recibiera las intimidaciones. Entre los mensajes se encontraban expresiones como: “¿No te duele ser tan fascista? Personas como vos merecen morir antes que contratemos un sicario por la Deep Web para mandarte a hacer acá, querida basurita” y “Ya te voy a matar a vos, algún día vas a entrar al Congreso, hija de puta. Antes de que vuelvas a ajustar y a cagar a palos a los jubilados como en el 2001”. Ante la gravedad de los hechos, intervino la Unidad de Investigación Antiterrorista de la PFA, que logró identificar el domicilio del autor de los mensajes, identificado como Leandro Gabriel Gaona, ubicado en la calle Luzuriaga, detallaron fuentes el caso a Infobae. Con esa información, el Juzgado Nacional en lo Criminal y Correccional Federal N°12, a cargo de Ariel Lijo y la Secretaría N°23 de Paola Yanina Kohen, ordenó el allanamiento del inmueble. Durante el operativo, en el que participaron efectivos del GEOF, la División Canes y la Brigada de Explosivos, fue detenido Gaona, un ciudadano argentino de 37 años. Además, en el lugar se secuestró un artefacto explosivo casero tipo “Molotov”, un teléfono celular, un CPU, bibliografía con contenido anarquista, panfletos y material con consignas antisistémicas, indicaron. Noticia en desarrollo\"\"\""
      ],
      "metadata": {
        "id": "interface"
      },
      "execution_count": null,
      "outputs": []
    },
    {
      "cell_type": "code",
      "source": [
        "# Crear la interfaz usando Gradio\n",
        "pagina_web = gr.Interface(\n",
        "    fn=resumir_texto,                    # Usar nuestra función\n",
        "    inputs=gr.Textbox(                   # Caja donde escribir texto\n",
        "        label=\"Escribí tu texto largo acá:\",\n",
        "        lines=6,\n",
        "        value=ejemplo\n",
        "    ),\n",
        "    outputs=gr.Textbox(                  # Caja donde mostrar el resumen\n",
        "        label=\"Acá aparece el resumen:\",\n",
        "        lines=3\n",
        "    ),\n",
        "    title=\"Resumidor de Textos con IA de Lenguaje\",\n",
        "    description=\"Escribí un texto largo y la IA de lenguaje te dará un resumen corto\"\n",
        ")\n",
        "\n",
        "# Mostrar la página web\n",
        "pagina_web.launch()"
      ],
      "metadata": {
        "id": "TPm6iLCp0BKf"
      },
      "execution_count": null,
      "outputs": []
    },
    {
      "cell_type": "markdown",
      "source": [
        "## ¡Listo!\n",
        "\n",
        "**¿Qué acabas de hacer?**\n",
        "1. Instalaste las herramientas necesarias\n",
        "2. Te conectaste con la API de IA de Google\n",
        "3. Creaste una función que resume textos\n",
        "4. Hiciste una página web para que otros la usen\n",
        "\n",
        "**Para experimentar:**\n",
        "- Cambia el texto de ejemplo\n",
        "- Modifica las instrucciones para la IA\n",
        "- Probá pedirle que haga resúmenes más largos o más cortos"
      ],
      "metadata": {
        "id": "conclusion"
      }
    }
  ]
}