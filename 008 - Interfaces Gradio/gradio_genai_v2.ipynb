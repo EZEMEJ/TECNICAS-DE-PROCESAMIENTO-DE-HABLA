{
  "nbformat": 4,
  "nbformat_minor": 0,
  "metadata": {
    "colab": {
      "provenance": [],
      "gpuType": "T4"
    },
    "kernelspec": {
      "name": "python3",
      "display_name": "Python 3"
    },
    "language_info": {
      "name": "python"
    },
    "accelerator": "GPU"
  },
  "cells": [
    {
      "cell_type": "code",
      "execution_count": null,
      "metadata": {
        "id": "5ZVm6CIouwgF"
      },
      "outputs": [],
      "source": [
        "%pip install -U -q google-genai gradio"
      ]
    },
    {
      "cell_type": "markdown",
      "source": [
        "# Sumarización con Google Gemini API y Gradio\n",
        "Esta interfaz te permite sumarizar textos utilizando el modelo Gemini de Google."
      ],
      "metadata": {
        "id": "KvvIHZvXyE2n"
      }
    },
    {
      "cell_type": "code",
      "source": [
        "from google.colab import userdata\n",
        "import os\n",
        "\n",
        "GOOGLE_API_KEY = userdata.get('GOOGLE_API_KEY')"
      ],
      "metadata": {
        "id": "0xS2NWpqvWHX"
      },
      "execution_count": null,
      "outputs": []
    },
    {
      "cell_type": "code",
      "source": [
        "from google import genai\n",
        "from google.genai import types\n",
        "import gradio as gr\n",
        "\n",
        "cliente = genai.Client(api_key=GOOGLE_API_KEY)"
      ],
      "metadata": {
        "id": "sL2CGPN7vvHj"
      },
      "execution_count": null,
      "outputs": []
    },
    {
      "cell_type": "code",
      "source": [
        "MODEL_ID = \"gemini-2.0-flash-lite\" # @param [\"gemini-2.0-flash-lite\",\"gemini-2.0-flash\",\"gemini-2.5-flash-preview-05-20\",\"gemini-2.5-pro-preview-05-06\"] {\"allow-input\":true, isTemplate: true}"
      ],
      "metadata": {
        "id": "msa42Srs1Mci"
      },
      "execution_count": null,
      "outputs": []
    },
    {
      "cell_type": "markdown",
      "source": [
        "# Texto de ejemplo"
      ],
      "metadata": {
        "id": "Cy_bZVjVyTbE"
      }
    },
    {
      "cell_type": "code",
      "source": [
        "# Texto de ejemplo que se cargará por defecto\n",
        "texto_ejemplo = \"\"\"Un hombre fue detenido por la PFA por una serie de amenazas de muerte dirigidas a Patricia Bullrich a través de redes sociales. En el marco de una investigación coordinada por el Ministerio de Seguridad Nacional, efectivos del Departamento Federal de Investigaciones arrestó, en las últimas horas, al supuesto responsable en la Ciudad de Buenos Aires. La causa se inició el 20 de marzo tras una denuncia presentada por el Ministerio, luego de que la funcionaria del gobierno de Javier Milei, recibiera las intimidaciones. Entre los mensajes se encontraban expresiones como: “¿No te duele ser tan fascista? Personas como vos merecen morir antes que contratemos un sicario por la Deep Web para mandarte a hacer acá, querida basurita” y “Ya te voy a matar a vos, algún día vas a entrar al Congreso, hija de puta. Antes de que vuelvas a ajustar y a cagar a palos a los jubilados como en el 2001”. Ante la gravedad de los hechos, intervino la Unidad de Investigación Antiterrorista de la PFA, que logró identificar el domicilio del autor de los mensajes, identificado como Leandro Gabriel Gaona, ubicado en la calle Luzuriaga, detallaron fuentes el caso a Infobae. Con esa información, el Juzgado Nacional en lo Criminal y Correccional Federal N°12, a cargo de Ariel Lijo y la Secretaría N°23 de Paola Yanina Kohen, ordenó el allanamiento del inmueble. Durante el operativo, en el que participaron efectivos del GEOF, la División Canes y la Brigada de Explosivos, fue detenido Gaona, un ciudadano argentino de 37 años. Además, en el lugar se secuestró un artefacto explosivo casero tipo “Molotov”, un teléfono celular, un CPU, bibliografía con contenido anarquista, panfletos y material con consignas antisistémicas, indicaron. Noticia en desarrollo\"\"\""
      ],
      "metadata": {
        "id": "_NwHWVYpv_Ji"
      },
      "execution_count": null,
      "outputs": []
    },
    {
      "cell_type": "markdown",
      "source": [
        "## Función de Sumarización"
      ],
      "metadata": {
        "id": "nR1SRBxf1Sma"
      }
    },
    {
      "cell_type": "code",
      "source": [
        "def sumarizar_texto(texto, tipo_resumen):\n",
        "    \"\"\"Función que sumariza el texto usando Gemini\"\"\"\n",
        "\n",
        "    if not texto.strip():\n",
        "        return \"Por favor, ingresa un texto para sumarizar.\"\n",
        "\n",
        "    # Definir diferentes tipos de prompt según la opción seleccionada\n",
        "    prompts = {\n",
        "        \"Rápido (3 oraciones)\": f\"Sumariza el siguiente texto en tres oraciones de rápida lectura:\\n\\nTexto: {texto}\",\n",
        "        \"Detallado (6 líneas)\": f\"Resumí el siguiente texto en no más de 6 líneas:\\n\\nTexto: {texto}\",\n",
        "        \"Muy breve (1 oración)\": f\"Resumí el siguiente texto en UNA sola oración:\\n\\nTexto: {texto}\"\n",
        "    }\n",
        "\n",
        "    try:\n",
        "        respuesta = cliente.models.generate_content(\n",
        "            model=MODEL_ID,\n",
        "            contents=[prompts[tipo_resumen]]\n",
        "        )\n",
        "        return respuesta.text\n",
        "\n",
        "    except Exception as e:\n",
        "        return f\"Error al procesar el texto: {str(e)}\""
      ],
      "metadata": {
        "id": "zjLIg2OZ1Pby"
      },
      "execution_count": null,
      "outputs": []
    },
    {
      "cell_type": "markdown",
      "source": [
        "## Interface Gradio"
      ],
      "metadata": {
        "id": "interface_section"
      }
    },
    {
      "cell_type": "code",
      "source": [
        "# Crear la interfaz Gradio\n",
        "interface = gr.Interface(\n",
        "    fn=sumarizar_texto,\n",
        "    inputs=[\n",
        "        gr.Textbox(\n",
        "            label=\"Texto a sumarizar\",\n",
        "            placeholder=\"Pega acá el texto que queres sumarizar...\",\n",
        "            lines=8,\n",
        "            value=texto_ejemplo\n",
        "        ),\n",
        "        gr.Dropdown(\n",
        "            choices=[\"Rápido (3 oraciones)\", \"Detallado (6 líneas)\", \"Muy breve (1 oración)\"],\n",
        "            label=\"Tipo de resumen\",\n",
        "            value=\"Rápido (2 oraciones)\"\n",
        "        )\n",
        "    ],\n",
        "    outputs=gr.Textbox(\n",
        "        label=\"Resumen generado\",\n",
        "        lines=4\n",
        "    ),\n",
        "    title=\"Sumarizador con Gemini\",\n",
        "    description=\"Ingresa cualquier texto y elegí el tipo de resumen que preferis. El modelo Gemini generará un resumen automáticamente.\",\n",
        "    examples=[\n",
        "        [\"Estimado Amazon, la semana pasada pedí una figura de acción de Optimus Prime en su tienda en línea en Alemania.\", \"Rápido (2 oraciones)\"],\n",
        "    ],\n",
        "    theme=gr.themes.Soft()\n",
        ")\n",
        "\n",
        "# Lanzar la interfaz\n",
        "interface.launch()"
      ],
      "metadata": {
        "id": "launch_interface"
      },
      "execution_count": null,
      "outputs": []
    }
  ]
}